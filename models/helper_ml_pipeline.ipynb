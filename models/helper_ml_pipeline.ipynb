{
 "cells": [
  {
   "cell_type": "markdown",
   "metadata": {},
   "source": [
    "# ML Pipeline Preparation\n",
    "\n",
    "This is a helper script that serves as preparation for `train_classifier.py`.  \n",
    "In this script, we use the data coming from the ETL pipeline to train and optimize a ML model that classifies any disaster messages.\n",
    "\n",
    "\n",
    "## 1. Import libraries and load data from database.\n",
    "- Import Python libraries\n",
    "- Load dataset from database with [`read_sql_table`](https://pandas.pydata.org/pandas-docs/stable/generated/pandas.read_sql_table.html)\n",
    "- Define feature and target variables X and Y"
   ]
  },
  {
   "cell_type": "markdown",
   "metadata": {},
   "source": [
    "Load libraries and set path to the SQL dataset."
   ]
  },
  {
   "cell_type": "code",
   "execution_count": 1,
   "metadata": {},
   "outputs": [
    {
     "name": "stderr",
     "output_type": "stream",
     "text": [
      "[nltk_data] Downloading package punkt to\n",
      "[nltk_data]     C:\\Users\\osberger\\AppData\\Roaming\\nltk_data...\n",
      "[nltk_data]   Package punkt is already up-to-date!\n",
      "[nltk_data] Downloading package wordnet to\n",
      "[nltk_data]     C:\\Users\\osberger\\AppData\\Roaming\\nltk_data...\n",
      "[nltk_data]   Package wordnet is already up-to-date!\n",
      "[nltk_data] Downloading package stopwords to\n",
      "[nltk_data]     C:\\Users\\osberger\\AppData\\Roaming\\nltk_data...\n",
      "[nltk_data]   Package stopwords is already up-to-date!\n"
     ]
    }
   ],
   "source": [
    "import pandas as pd\n",
    "import sqlalchemy as db\n",
    "import re\n",
    "import numpy as np\n",
    "from numpy.random import default_rng\n",
    "\n",
    "from sklearn.model_selection import train_test_split\n",
    "from sklearn.pipeline import Pipeline\n",
    "from sklearn.pipeline import FeatureUnion\n",
    "from sklearn.model_selection import GridSearchCV\n",
    "from sklearn.feature_extraction.text import CountVectorizer, TfidfTransformer\n",
    "from sklearn.multioutput import MultiOutputClassifier\n",
    "from sklearn.ensemble import RandomForestClassifier\n",
    "from sklearn.metrics import classification_report\n",
    "\n",
    "from functions import (tokenize, evaluate_results, TextLengthExtractor, TextAugmentation)\n",
    "\n",
    "import joblib\n",
    "\n",
    "import matplotlib.pyplot as plt\n",
    "\n",
    "data_base_name = '../data/DisasterResponse.db'"
   ]
  },
  {
   "cell_type": "markdown",
   "metadata": {},
   "source": [
    "Now, create an engine that is required to read in the database."
   ]
  },
  {
   "cell_type": "code",
   "execution_count": 2,
   "metadata": {
    "scrolled": true
   },
   "outputs": [],
   "source": [
    "engine = db.create_engine('sqlite:///' + data_base_name)\n",
    "df = pd.read_sql_table('disaster_data', engine)"
   ]
  },
  {
   "cell_type": "markdown",
   "metadata": {},
   "source": [
    "Let's see if the database looks as expected. For this, print out the head, categories, and genres"
   ]
  },
  {
   "cell_type": "code",
   "execution_count": 3,
   "metadata": {},
   "outputs": [
    {
     "data": {
      "text/html": [
       "<div>\n",
       "<style scoped>\n",
       "    .dataframe tbody tr th:only-of-type {\n",
       "        vertical-align: middle;\n",
       "    }\n",
       "\n",
       "    .dataframe tbody tr th {\n",
       "        vertical-align: top;\n",
       "    }\n",
       "\n",
       "    .dataframe thead th {\n",
       "        text-align: right;\n",
       "    }\n",
       "</style>\n",
       "<table border=\"1\" class=\"dataframe\">\n",
       "  <thead>\n",
       "    <tr style=\"text-align: right;\">\n",
       "      <th></th>\n",
       "      <th>index</th>\n",
       "      <th>id</th>\n",
       "      <th>message</th>\n",
       "      <th>original</th>\n",
       "      <th>genre</th>\n",
       "      <th>related</th>\n",
       "      <th>request</th>\n",
       "      <th>offer</th>\n",
       "      <th>aid_related</th>\n",
       "      <th>medical_help</th>\n",
       "      <th>...</th>\n",
       "      <th>aid_centers</th>\n",
       "      <th>other_infrastructure</th>\n",
       "      <th>weather_related</th>\n",
       "      <th>floods</th>\n",
       "      <th>storm</th>\n",
       "      <th>fire</th>\n",
       "      <th>earthquake</th>\n",
       "      <th>cold</th>\n",
       "      <th>other_weather</th>\n",
       "      <th>direct_report</th>\n",
       "    </tr>\n",
       "  </thead>\n",
       "  <tbody>\n",
       "    <tr>\n",
       "      <th>0</th>\n",
       "      <td>0</td>\n",
       "      <td>2</td>\n",
       "      <td>Weather update - a cold front from Cuba that c...</td>\n",
       "      <td>Un front froid se retrouve sur Cuba ce matin. ...</td>\n",
       "      <td>direct</td>\n",
       "      <td>1</td>\n",
       "      <td>0</td>\n",
       "      <td>0</td>\n",
       "      <td>0</td>\n",
       "      <td>0</td>\n",
       "      <td>...</td>\n",
       "      <td>0</td>\n",
       "      <td>0</td>\n",
       "      <td>0</td>\n",
       "      <td>0</td>\n",
       "      <td>0</td>\n",
       "      <td>0</td>\n",
       "      <td>0</td>\n",
       "      <td>0</td>\n",
       "      <td>0</td>\n",
       "      <td>0</td>\n",
       "    </tr>\n",
       "    <tr>\n",
       "      <th>1</th>\n",
       "      <td>1</td>\n",
       "      <td>7</td>\n",
       "      <td>Is the Hurricane over or is it not over</td>\n",
       "      <td>Cyclone nan fini osinon li pa fini</td>\n",
       "      <td>direct</td>\n",
       "      <td>1</td>\n",
       "      <td>0</td>\n",
       "      <td>0</td>\n",
       "      <td>1</td>\n",
       "      <td>0</td>\n",
       "      <td>...</td>\n",
       "      <td>0</td>\n",
       "      <td>0</td>\n",
       "      <td>1</td>\n",
       "      <td>0</td>\n",
       "      <td>1</td>\n",
       "      <td>0</td>\n",
       "      <td>0</td>\n",
       "      <td>0</td>\n",
       "      <td>0</td>\n",
       "      <td>0</td>\n",
       "    </tr>\n",
       "    <tr>\n",
       "      <th>2</th>\n",
       "      <td>2</td>\n",
       "      <td>8</td>\n",
       "      <td>Looking for someone but no name</td>\n",
       "      <td>Patnm, di Maryani relem pou li banm nouvel li ...</td>\n",
       "      <td>direct</td>\n",
       "      <td>1</td>\n",
       "      <td>0</td>\n",
       "      <td>0</td>\n",
       "      <td>0</td>\n",
       "      <td>0</td>\n",
       "      <td>...</td>\n",
       "      <td>0</td>\n",
       "      <td>0</td>\n",
       "      <td>0</td>\n",
       "      <td>0</td>\n",
       "      <td>0</td>\n",
       "      <td>0</td>\n",
       "      <td>0</td>\n",
       "      <td>0</td>\n",
       "      <td>0</td>\n",
       "      <td>0</td>\n",
       "    </tr>\n",
       "    <tr>\n",
       "      <th>3</th>\n",
       "      <td>3</td>\n",
       "      <td>9</td>\n",
       "      <td>UN reports Leogane 80-90 destroyed. Only Hospi...</td>\n",
       "      <td>UN reports Leogane 80-90 destroyed. Only Hospi...</td>\n",
       "      <td>direct</td>\n",
       "      <td>1</td>\n",
       "      <td>1</td>\n",
       "      <td>0</td>\n",
       "      <td>1</td>\n",
       "      <td>0</td>\n",
       "      <td>...</td>\n",
       "      <td>0</td>\n",
       "      <td>0</td>\n",
       "      <td>0</td>\n",
       "      <td>0</td>\n",
       "      <td>0</td>\n",
       "      <td>0</td>\n",
       "      <td>0</td>\n",
       "      <td>0</td>\n",
       "      <td>0</td>\n",
       "      <td>0</td>\n",
       "    </tr>\n",
       "    <tr>\n",
       "      <th>4</th>\n",
       "      <td>4</td>\n",
       "      <td>12</td>\n",
       "      <td>says: west side of Haiti, rest of the country ...</td>\n",
       "      <td>facade ouest d Haiti et le reste du pays aujou...</td>\n",
       "      <td>direct</td>\n",
       "      <td>1</td>\n",
       "      <td>0</td>\n",
       "      <td>0</td>\n",
       "      <td>0</td>\n",
       "      <td>0</td>\n",
       "      <td>...</td>\n",
       "      <td>0</td>\n",
       "      <td>0</td>\n",
       "      <td>0</td>\n",
       "      <td>0</td>\n",
       "      <td>0</td>\n",
       "      <td>0</td>\n",
       "      <td>0</td>\n",
       "      <td>0</td>\n",
       "      <td>0</td>\n",
       "      <td>0</td>\n",
       "    </tr>\n",
       "  </tbody>\n",
       "</table>\n",
       "<p>5 rows × 41 columns</p>\n",
       "</div>"
      ],
      "text/plain": [
       "   index  id                                            message  \\\n",
       "0      0   2  Weather update - a cold front from Cuba that c...   \n",
       "1      1   7            Is the Hurricane over or is it not over   \n",
       "2      2   8                    Looking for someone but no name   \n",
       "3      3   9  UN reports Leogane 80-90 destroyed. Only Hospi...   \n",
       "4      4  12  says: west side of Haiti, rest of the country ...   \n",
       "\n",
       "                                            original   genre  related  \\\n",
       "0  Un front froid se retrouve sur Cuba ce matin. ...  direct        1   \n",
       "1                 Cyclone nan fini osinon li pa fini  direct        1   \n",
       "2  Patnm, di Maryani relem pou li banm nouvel li ...  direct        1   \n",
       "3  UN reports Leogane 80-90 destroyed. Only Hospi...  direct        1   \n",
       "4  facade ouest d Haiti et le reste du pays aujou...  direct        1   \n",
       "\n",
       "   request  offer  aid_related  medical_help  ...  aid_centers  \\\n",
       "0        0      0            0             0  ...            0   \n",
       "1        0      0            1             0  ...            0   \n",
       "2        0      0            0             0  ...            0   \n",
       "3        1      0            1             0  ...            0   \n",
       "4        0      0            0             0  ...            0   \n",
       "\n",
       "   other_infrastructure  weather_related  floods  storm  fire  earthquake  \\\n",
       "0                     0                0       0      0     0           0   \n",
       "1                     0                1       0      1     0           0   \n",
       "2                     0                0       0      0     0           0   \n",
       "3                     0                0       0      0     0           0   \n",
       "4                     0                0       0      0     0           0   \n",
       "\n",
       "   cold  other_weather  direct_report  \n",
       "0     0              0              0  \n",
       "1     0              0              0  \n",
       "2     0              0              0  \n",
       "3     0              0              0  \n",
       "4     0              0              0  \n",
       "\n",
       "[5 rows x 41 columns]"
      ]
     },
     "execution_count": 3,
     "metadata": {},
     "output_type": "execute_result"
    }
   ],
   "source": [
    "df.head()"
   ]
  },
  {
   "cell_type": "code",
   "execution_count": 4,
   "metadata": {},
   "outputs": [
    {
     "name": "stdout",
     "output_type": "stream",
     "text": [
      "\n",
      "Categories:\n",
      "['related', 'request', 'offer', 'aid_related', 'medical_help', 'medical_products', 'search_and_rescue', 'security', 'military', 'child_alone', 'water', 'food', 'shelter', 'clothing', 'money', 'missing_people', 'refugees', 'death', 'other_aid', 'infrastructure_related', 'transport', 'buildings', 'electricity', 'tools', 'hospitals', 'shops', 'aid_centers', 'other_infrastructure', 'weather_related', 'floods', 'storm', 'fire', 'earthquake', 'cold', 'other_weather', 'direct_report']\n",
      "\n",
      "Genres:\n",
      "['direct' 'social' 'news']\n"
     ]
    }
   ],
   "source": [
    "first_category = [i for i, x in enumerate(df.columns) if x == 'related'][0]\n",
    "categories = df.columns[first_category:]\n",
    "genres = df.genre.unique()\n",
    "\n",
    "print('\\nCategories:\\n{}'.format(list(categories)))\n",
    "print('\\nGenres:\\n{}'.format(genres))"
   ]
  },
  {
   "cell_type": "markdown",
   "metadata": {},
   "source": [
    "## 2. Write a tokenization function to process your text data\n",
    "\n",
    "The tokenizer function is part of the external `functions.py` file. Let's have a look on how it works on hands on some examples..."
   ]
  },
  {
   "cell_type": "code",
   "execution_count": 5,
   "metadata": {},
   "outputs": [
    {
     "name": "stdout",
     "output_type": "stream",
     "text": [
      "This is the original text:\n",
      "Weather update - a cold front from Cuba that could pass over Haiti\n",
      "This is the tokenized text:\n",
      "['weather', 'update', 'cold', 'front', 'cuba', 'pass', 'haiti']\n",
      "\n",
      "This is the original text:\n",
      "(seemingly truncated) Port-au-Prince. We would like to help these people however possible Ok \n",
      "This is the tokenized text:\n",
      "['seemingly', 'truncate', 'port', 'au', 'prince', 'like', 'help', 'people', 'however', 'possible', 'ok']\n",
      "\n",
      "This is the original text:\n",
      "Some 2,000 women protesting against the conduct of the elections were teargassed as they tried to converge on the local electoral commission offices in the southern oil city of Port Harcourt.\n",
      "This is the tokenized text:\n",
      "['women', 'protest', 'conduct', 'elections', 'teargas', 'try', 'converge', 'local', 'electoral', 'commission', 'offices', 'southern', 'oil', 'city', 'port', 'harcourt']\n",
      "\n"
     ]
    }
   ],
   "source": [
    "TestText = [df.message[0], df.message[3252], df.message[26178]]\n",
    "\n",
    "for text in TestText:\n",
    "    print('This is the original text:\\n{}'.format(text))\n",
    "    print('This is the tokenized text:\\n{}\\n'.format(tokenize(text)))"
   ]
  },
  {
   "cell_type": "markdown",
   "metadata": {},
   "source": [
    "## 3. Build machine learning pipeline\n",
    "\n",
    "This machine pipeline should take in the `message` column as input and output classification results on the other 36 categories in the dataset. You may find the [MultiOutputClassifier](http://scikit-learn.org/stable/modules/generated/sklearn.multioutput.MultiOutputClassifier.html) helpful for predicting multiple target variables."
   ]
  },
  {
   "cell_type": "markdown",
   "metadata": {},
   "source": [
    "#### Split the dataset to train and test dataset\n",
    "\n",
    "For all the pipelines below, we will use the following splits to train them.\n",
    "There is one experiment that tries to use the genres as features as well, so add them to the splits"
   ]
  },
  {
   "cell_type": "code",
   "execution_count": 6,
   "metadata": {},
   "outputs": [],
   "source": [
    "df_genre = pd.get_dummies(df.genre, dummy_na = False, drop_first=True)\n",
    "X_with_genres = pd.DataFrame(df.message).join(df_genre)\n",
    "Y = df.iloc[:,5:]\n",
    "\n",
    "# To use the splitting function, we need to use DataFrames, but convert to X_* to message.values later\n",
    "X_train_with_genres, X_test_with_genres, Y_train, Y_test = train_test_split(X_with_genres, Y, test_size=0.20, random_state=8820)\n",
    "X_train = X_train_with_genres.message.values\n",
    "X_test = X_test_with_genres.message.values"
   ]
  },
  {
   "cell_type": "markdown",
   "metadata": {},
   "source": [
    "### 3.1 Build baseline pipeline \n",
    "\n",
    "First, we train a first simple baseline model that can later be used to compare results of improved models."
   ]
  },
  {
   "cell_type": "code",
   "execution_count": 14,
   "metadata": {},
   "outputs": [],
   "source": [
    "pipeline = Pipeline([(\"vec\", CountVectorizer(tokenizer=tokenize)), (\"tfidf\", TfidfTransformer()), (\"clf\", MultiOutputClassifier(RandomForestClassifier()))])"
   ]
  },
  {
   "cell_type": "markdown",
   "metadata": {},
   "source": [
    "Train the baseline pipeline."
   ]
  },
  {
   "cell_type": "code",
   "execution_count": 15,
   "metadata": {},
   "outputs": [
    {
     "data": {
      "text/plain": [
       "Pipeline(memory=None,\n",
       "         steps=[('vec',\n",
       "                 CountVectorizer(analyzer='word', binary=False,\n",
       "                                 decode_error='strict',\n",
       "                                 dtype=<class 'numpy.int64'>, encoding='utf-8',\n",
       "                                 input='content', lowercase=True, max_df=1.0,\n",
       "                                 max_features=None, min_df=1,\n",
       "                                 ngram_range=(1, 1), preprocessor=None,\n",
       "                                 stop_words=None, strip_accents=None,\n",
       "                                 token_pattern='(?u)\\\\b\\\\w\\\\w+\\\\b',\n",
       "                                 tokenizer=<function tokenize at 0...\n",
       "                                                                        ccp_alpha=0.0,\n",
       "                                                                        class_weight=None,\n",
       "                                                                        criterion='gini',\n",
       "                                                                        max_depth=None,\n",
       "                                                                        max_features='auto',\n",
       "                                                                        max_leaf_nodes=None,\n",
       "                                                                        max_samples=None,\n",
       "                                                                        min_impurity_decrease=0.0,\n",
       "                                                                        min_impurity_split=None,\n",
       "                                                                        min_samples_leaf=1,\n",
       "                                                                        min_samples_split=2,\n",
       "                                                                        min_weight_fraction_leaf=0.0,\n",
       "                                                                        n_estimators=100,\n",
       "                                                                        n_jobs=None,\n",
       "                                                                        oob_score=False,\n",
       "                                                                        random_state=None,\n",
       "                                                                        verbose=0,\n",
       "                                                                        warm_start=False),\n",
       "                                       n_jobs=None))],\n",
       "         verbose=False)"
      ]
     },
     "execution_count": 15,
     "metadata": {},
     "output_type": "execute_result"
    }
   ],
   "source": [
    "pipeline.fit(X_train, Y_train)"
   ]
  },
  {
   "cell_type": "markdown",
   "metadata": {},
   "source": [
    "Save the model to `.pkl`-file"
   ]
  },
  {
   "cell_type": "code",
   "execution_count": 16,
   "metadata": {},
   "outputs": [
    {
     "data": {
      "text/plain": [
       "['pipeline_baseline.pkl']"
      ]
     },
     "execution_count": 16,
     "metadata": {},
     "output_type": "execute_result"
    }
   ],
   "source": [
    "joblib.dump(pipeline, 'pipeline_baseline.pkl')"
   ]
  },
  {
   "cell_type": "markdown",
   "metadata": {},
   "source": [
    "Test baseline pipeline.  \n",
    "Report the f1 score, precision and recall for each output category of the dataset. You can do this by iterating through the columns and calling sklearn's `classification_report` on each."
   ]
  },
  {
   "cell_type": "markdown",
   "metadata": {},
   "source": [
    "Load the model to evaluate, do the evaluation on the test dataset, and show the results.  \n",
    "Before doing the whole evaluaiton, let's have a more detailed look on the first class. This may help us to understand the results in more detail."
   ]
  },
  {
   "cell_type": "code",
   "execution_count": 7,
   "metadata": {},
   "outputs": [
    {
     "name": "stdout",
     "output_type": "stream",
     "text": [
      "\n",
      "Classification results for class related\n",
      "              precision    recall  f1-score   support\n",
      "\n",
      "     related       0.83      0.95      0.89      3985\n",
      "      others       0.70      0.39      0.50      1251\n",
      "\n",
      "    accuracy                           0.81      5236\n",
      "   macro avg       0.77      0.67      0.69      5236\n",
      "weighted avg       0.80      0.81      0.79      5236\n",
      "\n",
      "\n",
      "Classification results for class water\n",
      "              precision    recall  f1-score   support\n",
      "\n",
      "       water       0.89      0.42      0.57       339\n",
      "      others       0.96      1.00      0.98      4897\n",
      "\n",
      "    accuracy                           0.96      5236\n",
      "   macro avg       0.92      0.71      0.77      5236\n",
      "weighted avg       0.96      0.96      0.95      5236\n",
      "\n"
     ]
    }
   ],
   "source": [
    "pipeline_baseline = joblib.load('pipeline_baseline.pkl')\n",
    "Y_pred = pipeline_baseline.predict(X_test)\n",
    "\n",
    "# Choose some sample categories that are used for a closer look of the results\n",
    "category_samples = ['related', 'water']\n",
    "for i, category in enumerate(category_samples):\n",
    "    cat_idx = [j for j,x in enumerate(categories) if x == category_samples[i]]\n",
    "    print('\\nClassification results for class {}'.format(category))\n",
    "    print(classification_report(Y_test[category].to_numpy(), Y_pred[:, cat_idx], target_names=[category, \"others\"], labels=[1,0]))"
   ]
  },
  {
   "cell_type": "markdown",
   "metadata": {},
   "source": [
    "The results for `related` is fine, the one for `water` looks nice when having a look on the accuracy. However, this is misleading, because the category `water` does not have many message samples in the dataset (see the statisitcs in the ETL helper jupyter notebook). This is why most of the messages tested seem to be classified as `others`, this pushes the accuracy. The more interesting value here is the `recall`, telling us, that the category `water` has many false negatives. This shows us, that the model is bad in predicting categories that have less samples.  \n",
    "\n",
    "Note that some warnings maybe appear since for some categories, no predictions appear."
   ]
  },
  {
   "cell_type": "code",
   "execution_count": 8,
   "metadata": {},
   "outputs": [
    {
     "name": "stderr",
     "output_type": "stream",
     "text": [
      "C:\\Users\\osberger\\Anaconda3\\lib\\site-packages\\sklearn\\metrics\\_classification.py:1272: UndefinedMetricWarning: Precision is ill-defined and being set to 0.0 due to no predicted samples. Use `zero_division` parameter to control this behavior.\n",
      "  _warn_prf(average, modifier, msg_start, len(result))\n",
      "C:\\Users\\osberger\\Anaconda3\\lib\\site-packages\\sklearn\\metrics\\_classification.py:1272: UndefinedMetricWarning: Recall is ill-defined and being set to 0.0 due to no true samples. Use `zero_division` parameter to control this behavior.\n",
      "  _warn_prf(average, modifier, msg_start, len(result))\n",
      "C:\\Users\\osberger\\Anaconda3\\lib\\site-packages\\sklearn\\metrics\\_classification.py:1515: UndefinedMetricWarning: F-score is ill-defined and being set to 0.0 due to no true nor predicted samples. Use `zero_division` parameter to control this behavior.\n",
      "  average, \"true nor predicted\", 'F-score is', len(true_sum)\n"
     ]
    },
    {
     "name": "stdout",
     "output_type": "stream",
     "text": [
      "Evaluation results for all categories:\n",
      "                        Accuracy  Precision    Recall  F1-Score\n",
      "related                 0.814744   0.832268  0.947553  0.886177\n",
      "request                 0.894767   0.824762  0.485426  0.611150\n",
      "offer                   0.995225   0.000000  0.000000  0.000000\n",
      "aid_related             0.782468   0.760260  0.697109  0.727316\n",
      "medical_help            0.927998   0.636364  0.071979  0.129330\n",
      "medical_products        0.949962   0.657143  0.084249  0.149351\n",
      "search_and_rescue       0.974026   0.800000  0.082759  0.150000\n",
      "security                0.984148   0.000000  0.000000  0.000000\n",
      "military                0.969824   0.714286  0.060976  0.112360\n",
      "child_alone             1.000000   0.000000  0.000000  0.000000\n",
      "water                   0.958938   0.887500  0.418879  0.569138\n",
      "food                    0.943468   0.902743  0.584814  0.709804\n",
      "shelter                 0.933728   0.877660  0.337423  0.487445\n",
      "clothing                0.985294   0.888889  0.095238  0.172043\n",
      "money                   0.975936   0.800000  0.060606  0.112676\n",
      "missing_people          0.988732   0.333333  0.017241  0.032787\n",
      "refugees                0.970779   0.631579  0.075949  0.135593\n",
      "death                   0.963140   0.860000  0.187773  0.308244\n",
      "other_aid               0.868602   0.622222  0.040057  0.075269\n",
      "infrastructure_related  0.927426   0.400000  0.005277  0.010417\n",
      "transport               0.957792   0.656250  0.090909  0.159696\n",
      "buildings               0.951490   0.820000  0.143357  0.244048\n",
      "electricity             0.979756   0.800000  0.036697  0.070175\n",
      "tools                   0.995225   0.000000  0.000000  0.000000\n",
      "hospitals               0.988541   0.000000  0.000000  0.000000\n",
      "shops                   0.995416   0.000000  0.000000  0.000000\n",
      "aid_centers             0.988923   0.000000  0.000000  0.000000\n",
      "other_infrastructure    0.948434   0.000000  0.000000  0.000000\n",
      "weather_related         0.885600   0.865277  0.714570  0.782735\n",
      "floods                  0.956264   0.931330  0.504651  0.654600\n",
      "storm                   0.943468   0.774481  0.542620  0.638142\n",
      "fire                    0.989114   0.000000  0.000000  0.000000\n",
      "earthquake              0.973453   0.916493  0.815985  0.863324\n",
      "cold                    0.979565   0.777778  0.062500  0.115702\n",
      "other_weather           0.947288   0.533333  0.028881  0.054795\n",
      "direct_report           0.856379   0.812775  0.356178  0.495302\n",
      "\n",
      "Mean evaluation metrics over all categories:\n",
      "           overall mean\n",
      "Accuracy       0.948498\n",
      "Precision      0.564353\n",
      "Recall         0.209713\n",
      "F1-Score       0.262712\n"
     ]
    }
   ],
   "source": [
    "df_metrics, f_metrics_mean = evaluate_results(Y_pred, Y_test, categories)"
   ]
  },
  {
   "cell_type": "markdown",
   "metadata": {},
   "source": [
    "### 3.2. Pipeline using TextLengthExtractor feature\n",
    "\n",
    "**Motivation**: It might be possible that more urgent messages are shorter than others since people that write a message in a stressed moment does not have that much time.\n",
    "\n",
    "We defined an estimator that extracts the length of a text (number of words), see `functions.py`. Have a look on how it works... Seems to be fine :)!"
   ]
  },
  {
   "cell_type": "code",
   "execution_count": 9,
   "metadata": {},
   "outputs": [
    {
     "data": {
      "text/html": [
       "<div>\n",
       "<style scoped>\n",
       "    .dataframe tbody tr th:only-of-type {\n",
       "        vertical-align: middle;\n",
       "    }\n",
       "\n",
       "    .dataframe tbody tr th {\n",
       "        vertical-align: top;\n",
       "    }\n",
       "\n",
       "    .dataframe thead th {\n",
       "        text-align: right;\n",
       "    }\n",
       "</style>\n",
       "<table border=\"1\" class=\"dataframe\">\n",
       "  <thead>\n",
       "    <tr style=\"text-align: right;\">\n",
       "      <th></th>\n",
       "      <th>0</th>\n",
       "    </tr>\n",
       "  </thead>\n",
       "  <tbody>\n",
       "    <tr>\n",
       "      <th>0</th>\n",
       "      <td>10</td>\n",
       "    </tr>\n",
       "    <tr>\n",
       "      <th>1</th>\n",
       "      <td>3</td>\n",
       "    </tr>\n",
       "  </tbody>\n",
       "</table>\n",
       "</div>"
      ],
      "text/plain": [
       "    0\n",
       "0  10\n",
       "1   3"
      ]
     },
     "execution_count": 9,
     "metadata": {},
     "output_type": "execute_result"
    }
   ],
   "source": [
    "TestTexts = ['This is my first sentence that is kind of looong', 'This is shorter']\n",
    "\n",
    "text_len_extractor = TextLengthExtractor()\n",
    "text_len_extractor.transform(TestTexts)"
   ]
  },
  {
   "cell_type": "markdown",
   "metadata": {},
   "source": [
    "Define and train the pipeline"
   ]
  },
  {
   "cell_type": "code",
   "execution_count": 16,
   "metadata": {},
   "outputs": [],
   "source": [
    "pipeline_with_text_length = Pipeline([\n",
    "    ('features', FeatureUnion([\n",
    "        ('text_pipeline', Pipeline([\n",
    "            ('vect', CountVectorizer(tokenizer=tokenize)),\n",
    "            ('tfidf', TfidfTransformer())\n",
    "        ])),\n",
    "        ('text_length', TextLengthExtractor())\n",
    "    ])),\n",
    "    (\"clf\", MultiOutputClassifier(RandomForestClassifier()))\n",
    "])"
   ]
  },
  {
   "cell_type": "code",
   "execution_count": 18,
   "metadata": {},
   "outputs": [
    {
     "data": {
      "text/plain": [
       "Pipeline(memory=None,\n",
       "         steps=[('features',\n",
       "                 FeatureUnion(n_jobs=None,\n",
       "                              transformer_list=[('text_pipeline',\n",
       "                                                 Pipeline(memory=None,\n",
       "                                                          steps=[('vect',\n",
       "                                                                  CountVectorizer(analyzer='word',\n",
       "                                                                                  binary=False,\n",
       "                                                                                  decode_error='strict',\n",
       "                                                                                  dtype=<class 'numpy.int64'>,\n",
       "                                                                                  encoding='utf-8',\n",
       "                                                                                  input='content',\n",
       "                                                                                  lowercase=True,\n",
       "                                                                                  max_df=1.0,\n",
       "                                                                                  max_features=None,\n",
       "                                                                                  min_df=1,\n",
       "                                                                                  ngram_range=(1,\n",
       "                                                                                               1),\n",
       "                                                                                  preprocessor=Non...\n",
       "                                                                        ccp_alpha=0.0,\n",
       "                                                                        class_weight=None,\n",
       "                                                                        criterion='gini',\n",
       "                                                                        max_depth=None,\n",
       "                                                                        max_features='auto',\n",
       "                                                                        max_leaf_nodes=None,\n",
       "                                                                        max_samples=None,\n",
       "                                                                        min_impurity_decrease=0.0,\n",
       "                                                                        min_impurity_split=None,\n",
       "                                                                        min_samples_leaf=1,\n",
       "                                                                        min_samples_split=2,\n",
       "                                                                        min_weight_fraction_leaf=0.0,\n",
       "                                                                        n_estimators=100,\n",
       "                                                                        n_jobs=None,\n",
       "                                                                        oob_score=False,\n",
       "                                                                        random_state=None,\n",
       "                                                                        verbose=0,\n",
       "                                                                        warm_start=False),\n",
       "                                       n_jobs=None))],\n",
       "         verbose=False)"
      ]
     },
     "execution_count": 18,
     "metadata": {},
     "output_type": "execute_result"
    }
   ],
   "source": [
    "pipeline_with_text_length.fit(X_train, Y_train)"
   ]
  },
  {
   "cell_type": "markdown",
   "metadata": {},
   "source": [
    "Save the model"
   ]
  },
  {
   "cell_type": "code",
   "execution_count": 24,
   "metadata": {},
   "outputs": [
    {
     "data": {
      "text/plain": [
       "['pipeline_with_text_length.pkl']"
      ]
     },
     "execution_count": 24,
     "metadata": {},
     "output_type": "execute_result"
    }
   ],
   "source": [
    "joblib.dump(pipeline_with_text_length, 'pipeline_with_text_length.pkl')"
   ]
  },
  {
   "cell_type": "markdown",
   "metadata": {},
   "source": [
    "Evaluate and dispay the results"
   ]
  },
  {
   "cell_type": "code",
   "execution_count": 10,
   "metadata": {},
   "outputs": [
    {
     "name": "stderr",
     "output_type": "stream",
     "text": [
      "C:\\Users\\osberger\\Anaconda3\\lib\\site-packages\\sklearn\\metrics\\_classification.py:1272: UndefinedMetricWarning: Precision is ill-defined and being set to 0.0 due to no predicted samples. Use `zero_division` parameter to control this behavior.\n",
      "  _warn_prf(average, modifier, msg_start, len(result))\n",
      "C:\\Users\\osberger\\Anaconda3\\lib\\site-packages\\sklearn\\metrics\\_classification.py:1272: UndefinedMetricWarning: Recall is ill-defined and being set to 0.0 due to no true samples. Use `zero_division` parameter to control this behavior.\n",
      "  _warn_prf(average, modifier, msg_start, len(result))\n",
      "C:\\Users\\osberger\\Anaconda3\\lib\\site-packages\\sklearn\\metrics\\_classification.py:1515: UndefinedMetricWarning: F-score is ill-defined and being set to 0.0 due to no true nor predicted samples. Use `zero_division` parameter to control this behavior.\n",
      "  average, \"true nor predicted\", 'F-score is', len(true_sum)\n"
     ]
    },
    {
     "name": "stdout",
     "output_type": "stream",
     "text": [
      "Evaluation results for all categories:\n",
      "                        Accuracy  Precision    Recall  F1-Score\n",
      "related                 0.814171   0.823315  0.962359  0.887423\n",
      "request                 0.897250   0.836502  0.493274  0.620592\n",
      "offer                   0.995225   0.000000  0.000000  0.000000\n",
      "aid_related             0.782850   0.752422  0.712712  0.732029\n",
      "medical_help            0.927998   0.620000  0.079692  0.141230\n",
      "medical_products        0.949771   0.692308  0.065934  0.120401\n",
      "search_and_rescue       0.972689   0.600000  0.041379  0.077419\n",
      "security                0.984339   0.000000  0.000000  0.000000\n",
      "military                0.970206   0.722222  0.079268  0.142857\n",
      "child_alone             1.000000   0.000000  0.000000  0.000000\n",
      "water                   0.957410   0.886667  0.392330  0.543967\n",
      "food                    0.944232   0.897810  0.596123  0.716505\n",
      "shelter                 0.935638   0.839286  0.384458  0.527349\n",
      "clothing                0.984912   0.857143  0.071429  0.131868\n",
      "money                   0.975936   0.800000  0.060606  0.112676\n",
      "missing_people          0.988541   0.000000  0.000000  0.000000\n",
      "refugees                0.971352   0.700000  0.088608  0.157303\n",
      "death                   0.961421   0.813953  0.152838  0.257353\n",
      "other_aid               0.868411   0.613636  0.038627  0.072678\n",
      "infrastructure_related  0.927617   0.500000  0.002639  0.005249\n",
      "transport               0.958556   0.659091  0.125541  0.210909\n",
      "buildings               0.950535   0.909091  0.104895  0.188088\n",
      "electricity             0.979947   0.833333  0.045872  0.086957\n",
      "tools                   0.995225   0.000000  0.000000  0.000000\n",
      "hospitals               0.988541   0.000000  0.000000  0.000000\n",
      "shops                   0.995416   0.000000  0.000000  0.000000\n",
      "aid_centers             0.988923   0.000000  0.000000  0.000000\n",
      "other_infrastructure    0.948816   0.000000  0.000000  0.000000\n",
      "weather_related         0.887128   0.867894  0.717881  0.785792\n",
      "floods                  0.957792   0.930041  0.525581  0.671620\n",
      "storm                   0.942704   0.760807  0.548857  0.637681\n",
      "fire                    0.989114   0.000000  0.000000  0.000000\n",
      "earthquake              0.973644   0.918410  0.815985  0.864173\n",
      "cold                    0.978992   0.625000  0.044643  0.083333\n",
      "other_weather           0.948052   0.692308  0.032491  0.062069\n",
      "direct_report           0.855042   0.804396  0.353282  0.490946\n",
      "\n",
      "Mean evaluation metrics over all categories:\n",
      "           overall mean\n",
      "Accuracy       0.948567\n",
      "Precision      0.554323\n",
      "Recall         0.209370\n",
      "F1-Score       0.259124\n"
     ]
    }
   ],
   "source": [
    "pipeline_with_text_length = joblib.load('pipeline_with_text_length.pkl')\n",
    "Y_pred = pipeline_with_text_length.predict(X_test)\n",
    "\n",
    "df_metrics, f_metrics_mean = evaluate_results(Y_pred, Y_test, categories)"
   ]
  },
  {
   "cell_type": "markdown",
   "metadata": {},
   "source": [
    "**Conclusion**: Results are slightly better."
   ]
  },
  {
   "cell_type": "markdown",
   "metadata": {},
   "source": [
    "### 3.3. Pipeline using message genres as feature\n",
    "\n",
    "Try to add genre data as well.\n",
    "\n",
    "**Motivation**: It could be, that some disaster categories are reported in a special way. E.g., it can be likely that `fire` disasters (a house is burning, ...) are more reported via news or directly than using social media:"
   ]
  },
  {
   "cell_type": "code",
   "execution_count": 29,
   "metadata": {},
   "outputs": [
    {
     "data": {
      "text/plain": [
       "news      225\n",
       "direct     41\n",
       "social     16\n",
       "Name: genre, dtype: int64"
      ]
     },
     "execution_count": 29,
     "metadata": {},
     "output_type": "execute_result"
    }
   ],
   "source": [
    "df[df.fire == 1].genre.value_counts()"
   ]
  },
  {
   "cell_type": "markdown",
   "metadata": {},
   "source": [
    "To do so, write a user-defined feature union that respects a list of X"
   ]
  },
  {
   "cell_type": "code",
   "execution_count": 30,
   "metadata": {},
   "outputs": [],
   "source": [
    "class FeatureUnionCustom(FeatureUnion):\n",
    "    def __init__(self, feature_type, transformer_list):\n",
    "        self.feature_type = feature_type\n",
    "        super().__init__(transformer_list)\n",
    "        \n",
    "    def fit(self, X, y=None):\n",
    "        if (self.feature_type == 'text'):\n",
    "            return super().fit(X.message.values, y)\n",
    "        else:\n",
    "            return super().fit(X.drop(columns=['message']), y)\n",
    "        \n",
    "    def transform(self, X):\n",
    "        if (self.feature_type == 'text'):\n",
    "            return super().transform(X.message.values)\n",
    "        else:\n",
    "            return super().transform(X.drop(columns=['message']))\n",
    "        \n",
    "    def fit_transform(self, X, y=None):\n",
    "        if (self.feature_type == 'text'):\n",
    "            return super().fit_transform(X.message.values, y)\n",
    "        else:\n",
    "            return super().fit_transform(X.drop(columns=['message']), y)\n",
    "    \n",
    "class IdentityFeature(BaseEstimator):\n",
    "    def transform(self, X):\n",
    "        return X\n",
    "        \n",
    "    def fit_transform(self, X, y=None, **fit_params):\n",
    "        return X"
   ]
  },
  {
   "cell_type": "markdown",
   "metadata": {},
   "source": [
    "Define and train the pipeline"
   ]
  },
  {
   "cell_type": "code",
   "execution_count": 31,
   "metadata": {},
   "outputs": [],
   "source": [
    "pipeline_with_genre = Pipeline([\n",
    "    ('features', FeatureUnion([\n",
    "        ('features_text', FeatureUnionCustom('text', transformer_list = [\n",
    "            ('features_text_pipeline', Pipeline([\n",
    "                ('vect', CountVectorizer(tokenizer=tokenize)),\n",
    "                ('tfidf', TfidfTransformer())\n",
    "                ])),\n",
    "            ('text_length', TextLengthExtractor())])),\n",
    "         ('features_genre', FeatureUnionCustom('no_text', [('identity', IdentityFeature())]))\n",
    "    ])),\n",
    "    (\"clf\", MultiOutputClassifier(RandomForestClassifier()))\n",
    "])"
   ]
  },
  {
   "cell_type": "code",
   "execution_count": 32,
   "metadata": {},
   "outputs": [
    {
     "data": {
      "text/plain": [
       "Pipeline(memory=None,\n",
       "         steps=[('features',\n",
       "                 FeatureUnion(n_jobs=None,\n",
       "                              transformer_list=[('features_text',\n",
       "                                                 FeatureUnionCustom(feature_type='text',\n",
       "                                                                    transformer_list=[('features_text_pipeline',\n",
       "                                                                                       Pipeline(memory=None,\n",
       "                                                                                                steps=[('vect',\n",
       "                                                                                                        CountVectorizer(analyzer='word',\n",
       "                                                                                                                        binary=False,\n",
       "                                                                                                                        decode_error='strict',\n",
       "                                                                                                                        dtype=<class 'numpy.int64'>,\n",
       "                                                                                                                        encoding='utf-8',\n",
       "                                                                                                                        input='content',\n",
       "                                                                                                                        lowe...\n",
       "                                                                        ccp_alpha=0.0,\n",
       "                                                                        class_weight=None,\n",
       "                                                                        criterion='gini',\n",
       "                                                                        max_depth=None,\n",
       "                                                                        max_features='auto',\n",
       "                                                                        max_leaf_nodes=None,\n",
       "                                                                        max_samples=None,\n",
       "                                                                        min_impurity_decrease=0.0,\n",
       "                                                                        min_impurity_split=None,\n",
       "                                                                        min_samples_leaf=1,\n",
       "                                                                        min_samples_split=2,\n",
       "                                                                        min_weight_fraction_leaf=0.0,\n",
       "                                                                        n_estimators=100,\n",
       "                                                                        n_jobs=None,\n",
       "                                                                        oob_score=False,\n",
       "                                                                        random_state=None,\n",
       "                                                                        verbose=0,\n",
       "                                                                        warm_start=False),\n",
       "                                       n_jobs=None))],\n",
       "         verbose=False)"
      ]
     },
     "execution_count": 32,
     "metadata": {},
     "output_type": "execute_result"
    }
   ],
   "source": [
    "pipeline_with_genre.fit(X_train_with_genres, Y_train)"
   ]
  },
  {
   "cell_type": "markdown",
   "metadata": {},
   "source": [
    "Save the model"
   ]
  },
  {
   "cell_type": "code",
   "execution_count": 33,
   "metadata": {},
   "outputs": [
    {
     "data": {
      "text/plain": [
       "['pipeline_with_genre.pkl']"
      ]
     },
     "execution_count": 33,
     "metadata": {},
     "output_type": "execute_result"
    }
   ],
   "source": [
    "joblib.dump(pipeline_with_genre, 'pipeline_with_genre.pkl')"
   ]
  },
  {
   "cell_type": "markdown",
   "metadata": {},
   "source": [
    "Evaluate and dispay the results"
   ]
  },
  {
   "cell_type": "code",
   "execution_count": 34,
   "metadata": {},
   "outputs": [
    {
     "name": "stderr",
     "output_type": "stream",
     "text": [
      "C:\\Users\\osberger\\Anaconda3\\lib\\site-packages\\sklearn\\metrics\\_classification.py:1272: UndefinedMetricWarning: Precision is ill-defined and being set to 0.0 due to no predicted samples. Use `zero_division` parameter to control this behavior.\n",
      "  _warn_prf(average, modifier, msg_start, len(result))\n",
      "C:\\Users\\osberger\\Anaconda3\\lib\\site-packages\\sklearn\\metrics\\_classification.py:1272: UndefinedMetricWarning: Recall is ill-defined and being set to 0.0 due to no true samples. Use `zero_division` parameter to control this behavior.\n",
      "  _warn_prf(average, modifier, msg_start, len(result))\n",
      "C:\\Users\\osberger\\Anaconda3\\lib\\site-packages\\sklearn\\metrics\\_classification.py:1515: UndefinedMetricWarning: F-score is ill-defined and being set to 0.0 due to no true nor predicted samples. Use `zero_division` parameter to control this behavior.\n",
      "  average, \"true nor predicted\", 'F-score is', len(true_sum)\n"
     ]
    },
    {
     "name": "stdout",
     "output_type": "stream",
     "text": [
      "Evaluation results for all categories:\n",
      "                        Accuracy  Precision    Recall  F1-Score\n",
      "related                 0.813216   0.822847  0.961606  0.886832\n",
      "request                 0.900115   0.838532  0.512332  0.636047\n",
      "offer                   0.995225   0.000000  0.000000  0.000000\n",
      "aid_related             0.779794   0.753458  0.699862  0.725672\n",
      "medical_help            0.930099   0.755556  0.087404  0.156682\n",
      "medical_products        0.950726   0.682927  0.102564  0.178344\n",
      "search_and_rescue       0.972498   0.538462  0.048276  0.088608\n",
      "security                0.984148   0.000000  0.000000  0.000000\n",
      "military                0.970588   0.750000  0.091463  0.163043\n",
      "child_alone             1.000000   0.000000  0.000000  0.000000\n",
      "water                   0.957219   0.896552  0.383481  0.537190\n",
      "food                    0.937357   0.907563  0.523425  0.663934\n",
      "shelter                 0.932200   0.828431  0.345603  0.487734\n",
      "clothing                0.986440   0.933333  0.166667  0.282828\n",
      "money                   0.975936   0.875000  0.053030  0.100000\n",
      "missing_people          0.988732   0.000000  0.000000  0.000000\n",
      "refugees                0.970206   0.571429  0.050633  0.093023\n",
      "death                   0.961994   0.857143  0.157205  0.265683\n",
      "other_aid               0.868220   0.604651  0.037196  0.070081\n",
      "infrastructure_related  0.927044   0.000000  0.000000  0.000000\n",
      "transport               0.957601   0.636364  0.090909  0.159091\n",
      "buildings               0.952063   0.843137  0.150350  0.255193\n",
      "electricity             0.979756   0.800000  0.036697  0.070175\n",
      "tools                   0.995225   0.000000  0.000000  0.000000\n",
      "hospitals               0.988541   0.000000  0.000000  0.000000\n",
      "shops                   0.995416   0.000000  0.000000  0.000000\n",
      "aid_centers             0.988923   0.000000  0.000000  0.000000\n",
      "other_infrastructure    0.948816   0.000000  0.000000  0.000000\n",
      "weather_related         0.888655   0.861263  0.731788  0.791264\n",
      "floods                  0.956837   0.932203  0.511628  0.660661\n",
      "storm                   0.942895   0.786164  0.519751  0.625782\n",
      "fire                    0.989305   1.000000  0.017544  0.034483\n",
      "earthquake              0.972498   0.919149  0.802974  0.857143\n",
      "cold                    0.979183   0.636364  0.062500  0.113821\n",
      "other_weather           0.947670   0.636364  0.025271  0.048611\n",
      "direct_report           0.861536   0.801942  0.398649  0.532560\n",
      "\n",
      "Mean evaluation metrics over all categories:\n",
      "           overall mean\n",
      "Accuracy       0.948519\n",
      "Precision      0.568579\n",
      "Recall         0.210245\n",
      "F1-Score       0.263458\n"
     ]
    }
   ],
   "source": [
    "pipeline_with_genre = joblib.load('pipeline_with_genre.pkl')\n",
    "Y_pred = pipeline_with_genre.predict(X_test_with_genres)\n",
    "\n",
    "df_metrics, f_metrics_mean = evaluate_results(Y_pred, Y_test, categories)"
   ]
  },
  {
   "cell_type": "markdown",
   "metadata": {},
   "source": [
    "**Conclusion**: Adding the genres as features seem to improve the resulting model at least a bit. Unfortunately, the genres are not used as a feature in the web-app, therefore we cannot really use them."
   ]
  },
  {
   "cell_type": "markdown",
   "metadata": {},
   "source": [
    "### 3.4. Pipeline using data augmentation\n",
    "\n",
    "As next experiment, we will use some data augmentation to improve performance.\n",
    "\n",
    "**Motivation**: As alreads mentioned above, the messages are far away from a uniformly distribution over the categories (see plot below). This leads to poor results for many categories that are underrepresented. This inbalanced data can be improved with data augmentation."
   ]
  },
  {
   "cell_type": "code",
   "execution_count": 7,
   "metadata": {},
   "outputs": [
    {
     "data": {
      "image/png": "[encoded data removed]",
      "text/plain": [
       "<Figure size 432x288 with 1 Axes>"
      ]
     },
     "metadata": {
      "needs_background": "light"
     },
     "output_type": "display_data"
    }
   ],
   "source": [
    "df_cat = df.drop(columns=['index', 'id', 'message', 'original', 'genre'])\n",
    "cat_counts = df_cat.sum().sort_values(ascending=False)\n",
    "cat_names = cat_counts.index\n",
    "plt.bar(cat_names, cat_counts)\n",
    "plt.xticks(rotation=45, ha='right')\n",
    "plt.suptitle('Count of message categories')\n",
    "plt.show()"
   ]
  },
  {
   "cell_type": "markdown",
   "metadata": {},
   "source": [
    "In the following, use the augmentaiton class from `functions.py`. Show how the augmentation works on a single category."
   ]
  },
  {
   "cell_type": "code",
   "execution_count": 8,
   "metadata": {},
   "outputs": [
    {
     "data": {
      "application/vnd.jupyter.widget-view+json": {
       "model_id": "d66aa900753e45e396ca3271a6ff0b0c",
       "version_major": 2,
       "version_minor": 0
      },
      "text/plain": [
       "HBox(children=(FloatProgress(value=0.0, max=577.0), HTML(value='')))"
      ]
     },
     "metadata": {},
     "output_type": "display_data"
    },
    {
     "name": "stdout",
     "output_type": "stream",
     "text": [
      "\n"
     ]
    },
    {
     "data": {
      "text/plain": [
       "'power power cause remain work close days days home home'"
      ]
     },
     "execution_count": 8,
     "metadata": {},
     "output_type": "execute_result"
    }
   ],
   "source": [
    "augmentation = TextAugmentation(categories, 1000)\n",
    "X_aug, Y_aug = augmentation.augment_category(X_train, Y_train, 'electricity')\n",
    "\n",
    "# Print an example\n",
    "X_aug[500]"
   ]
  },
  {
   "cell_type": "markdown",
   "metadata": {},
   "source": [
    "Apply the augmentation. In addition, let us remove unlabeld data, hence data that does not cotain ategory-specific information."
   ]
  },
  {
   "cell_type": "code",
   "execution_count": 9,
   "metadata": {},
   "outputs": [],
   "source": [
    "X_train = X_train[Y_train.sum(axis = 1) > 0]\n",
    "Y_train = Y_train[Y_train.sum(axis = 1) > 0]"
   ]
  },
  {
   "cell_type": "code",
   "execution_count": 10,
   "metadata": {},
   "outputs": [
    {
     "data": {
      "application/vnd.jupyter.widget-view+json": {
       "model_id": "7a878a5889d049e9b8a3292ab28547c8",
       "version_major": 2,
       "version_minor": 0
      },
      "text/plain": [
       "HBox(children=(FloatProgress(value=0.0, max=36.0), HTML(value='')))"
      ]
     },
     "metadata": {},
     "output_type": "display_data"
    },
    {
     "data": {
      "application/vnd.jupyter.widget-view+json": {
       "model_id": "343e42327ae5480e9133444245132ef5",
       "version_major": 2,
       "version_minor": 0
      },
      "text/plain": [
       "HBox(children=(FloatProgress(value=0.0, max=1308.0), HTML(value='')))"
      ]
     },
     "metadata": {},
     "output_type": "display_data"
    },
    {
     "name": "stdout",
     "output_type": "stream",
     "text": [
      "\n"
     ]
    },
    {
     "data": {
      "application/vnd.jupyter.widget-view+json": {
       "model_id": "da462151fd144f4f89c2e9e24ccf441f",
       "version_major": 2,
       "version_minor": 0
      },
      "text/plain": [
       "HBox(children=(FloatProgress(value=0.0, max=1962.0), HTML(value='')))"
      ]
     },
     "metadata": {},
     "output_type": "display_data"
    },
    {
     "name": "stdout",
     "output_type": "stream",
     "text": [
      "\n"
     ]
    },
    {
     "data": {
      "application/vnd.jupyter.widget-view+json": {
       "model_id": "ef784eb190e34135aae4fcadedb13d72",
       "version_major": 2,
       "version_minor": 0
      },
      "text/plain": [
       "HBox(children=(FloatProgress(value=0.0, max=2421.0), HTML(value='')))"
      ]
     },
     "metadata": {},
     "output_type": "display_data"
    },
    {
     "name": "stdout",
     "output_type": "stream",
     "text": [
      "\n"
     ]
    },
    {
     "data": {
      "application/vnd.jupyter.widget-view+json": {
       "model_id": "01f1394876df4376bf39367f87210d75",
       "version_major": 2,
       "version_minor": 0
      },
      "text/plain": [
       "HBox(children=(FloatProgress(value=0.0, max=2609.0), HTML(value='')))"
      ]
     },
     "metadata": {},
     "output_type": "display_data"
    },
    {
     "name": "stdout",
     "output_type": "stream",
     "text": [
      "\n"
     ]
    },
    {
     "data": {
      "application/vnd.jupyter.widget-view+json": {
       "model_id": "0b9d4b40589a444e899cafcab22557cc",
       "version_major": 2,
       "version_minor": 0
      },
      "text/plain": [
       "HBox(children=(FloatProgress(value=0.0, max=2305.0), HTML(value='')))"
      ]
     },
     "metadata": {},
     "output_type": "display_data"
    },
    {
     "name": "stdout",
     "output_type": "stream",
     "text": [
      "\n"
     ]
    },
    {
     "data": {
      "application/vnd.jupyter.widget-view+json": {
       "model_id": "b78c07bd85844b218fc8099988360869",
       "version_major": 2,
       "version_minor": 0
      },
      "text/plain": [
       "HBox(children=(FloatProgress(value=0.0, max=1670.0), HTML(value='')))"
      ]
     },
     "metadata": {},
     "output_type": "display_data"
    },
    {
     "name": "stdout",
     "output_type": "stream",
     "text": [
      "\n"
     ]
    },
    {
     "data": {
      "application/vnd.jupyter.widget-view+json": {
       "model_id": "73dad031396448369ca9db39c55f7b06",
       "version_major": 2,
       "version_minor": 0
      },
      "text/plain": [
       "HBox(children=(FloatProgress(value=0.0, max=702.0), HTML(value='')))"
      ]
     },
     "metadata": {},
     "output_type": "display_data"
    },
    {
     "name": "stdout",
     "output_type": "stream",
     "text": [
      "\n"
     ]
    },
    {
     "data": {
      "application/vnd.jupyter.widget-view+json": {
       "model_id": "dd15f762a6134d2080919a9828dc170f",
       "version_major": 2,
       "version_minor": 0
      },
      "text/plain": [
       "HBox(children=(FloatProgress(value=0.0, max=1181.0), HTML(value='')))"
      ]
     },
     "metadata": {},
     "output_type": "display_data"
    },
    {
     "name": "stdout",
     "output_type": "stream",
     "text": [
      "\n"
     ]
    },
    {
     "data": {
      "application/vnd.jupyter.widget-view+json": {
       "model_id": "ab9c8380efa0499f985ab482e290eb21",
       "version_major": 2,
       "version_minor": 0
      },
      "text/plain": [
       "HBox(children=(FloatProgress(value=0.0, max=2529.0), HTML(value='')))"
      ]
     },
     "metadata": {},
     "output_type": "display_data"
    },
    {
     "name": "stdout",
     "output_type": "stream",
     "text": [
      "\n"
     ]
    },
    {
     "data": {
      "application/vnd.jupyter.widget-view+json": {
       "model_id": "0ddee63044174a5e81b59df013756b29",
       "version_major": 2,
       "version_minor": 0
      },
      "text/plain": [
       "HBox(children=(FloatProgress(value=0.0, max=2284.0), HTML(value='')))"
      ]
     },
     "metadata": {},
     "output_type": "display_data"
    },
    {
     "name": "stdout",
     "output_type": "stream",
     "text": [
      "\n"
     ]
    },
    {
     "data": {
      "application/vnd.jupyter.widget-view+json": {
       "model_id": "cb5c568e7e6c4668bf895369859bb6bb",
       "version_major": 2,
       "version_minor": 0
      },
      "text/plain": [
       "HBox(children=(FloatProgress(value=0.0, max=2037.0), HTML(value='')))"
      ]
     },
     "metadata": {},
     "output_type": "display_data"
    },
    {
     "name": "stdout",
     "output_type": "stream",
     "text": [
      "\n"
     ]
    },
    {
     "data": {
      "application/vnd.jupyter.widget-view+json": {
       "model_id": "c5e880c4f2c5450a9421a214008751f2",
       "version_major": 2,
       "version_minor": 0
      },
      "text/plain": [
       "HBox(children=(FloatProgress(value=0.0, max=258.0), HTML(value='')))"
      ]
     },
     "metadata": {},
     "output_type": "display_data"
    },
    {
     "name": "stdout",
     "output_type": "stream",
     "text": [
      "\n"
     ]
    },
    {
     "data": {
      "application/vnd.jupyter.widget-view+json": {
       "model_id": "edf57beb103b4beda913bd75984e7e88",
       "version_major": 2,
       "version_minor": 0
      },
      "text/plain": [
       "HBox(children=(FloatProgress(value=0.0, max=1674.0), HTML(value='')))"
      ]
     },
     "metadata": {},
     "output_type": "display_data"
    },
    {
     "name": "stdout",
     "output_type": "stream",
     "text": [
      "\n"
     ]
    },
    {
     "data": {
      "application/vnd.jupyter.widget-view+json": {
       "model_id": "9cccfe7a87734c3ea64d9b029c7623e1",
       "version_major": 2,
       "version_minor": 0
      },
      "text/plain": [
       "HBox(children=(FloatProgress(value=0.0, max=2032.0), HTML(value='')))"
      ]
     },
     "metadata": {},
     "output_type": "display_data"
    },
    {
     "name": "stdout",
     "output_type": "stream",
     "text": [
      "\n"
     ]
    },
    {
     "data": {
      "application/vnd.jupyter.widget-view+json": {
       "model_id": "22722d6d08ff4319b44b932a158b961d",
       "version_major": 2,
       "version_minor": 0
      },
      "text/plain": [
       "HBox(children=(FloatProgress(value=0.0, max=1955.0), HTML(value='')))"
      ]
     },
     "metadata": {},
     "output_type": "display_data"
    },
    {
     "name": "stdout",
     "output_type": "stream",
     "text": [
      "\n"
     ]
    },
    {
     "data": {
      "application/vnd.jupyter.widget-view+json": {
       "model_id": "284a83748fa940ea9f72bae4552d76fd",
       "version_major": 2,
       "version_minor": 0
      },
      "text/plain": [
       "HBox(children=(FloatProgress(value=0.0, max=2577.0), HTML(value='')))"
      ]
     },
     "metadata": {},
     "output_type": "display_data"
    },
    {
     "name": "stdout",
     "output_type": "stream",
     "text": [
      "\n"
     ]
    },
    {
     "data": {
      "application/vnd.jupyter.widget-view+json": {
       "model_id": "da555754d56744d98771e553f0c2b7e9",
       "version_major": 2,
       "version_minor": 0
      },
      "text/plain": [
       "HBox(children=(FloatProgress(value=0.0, max=2117.0), HTML(value='')))"
      ]
     },
     "metadata": {},
     "output_type": "display_data"
    },
    {
     "name": "stdout",
     "output_type": "stream",
     "text": [
      "\n"
     ]
    },
    {
     "data": {
      "application/vnd.jupyter.widget-view+json": {
       "model_id": "5a414ff0d8b847b8b4de7c2dc03abad4",
       "version_major": 2,
       "version_minor": 0
      },
      "text/plain": [
       "HBox(children=(FloatProgress(value=0.0, max=1281.0), HTML(value='')))"
      ]
     },
     "metadata": {},
     "output_type": "display_data"
    },
    {
     "name": "stdout",
     "output_type": "stream",
     "text": [
      "\n"
     ]
    },
    {
     "data": {
      "application/vnd.jupyter.widget-view+json": {
       "model_id": "83aeec30820843b88e4dc68d2fafca9e",
       "version_major": 2,
       "version_minor": 0
      },
      "text/plain": [
       "HBox(children=(FloatProgress(value=0.0, max=1041.0), HTML(value='')))"
      ]
     },
     "metadata": {},
     "output_type": "display_data"
    },
    {
     "name": "stdout",
     "output_type": "stream",
     "text": [
      "\n"
     ]
    },
    {
     "data": {
      "application/vnd.jupyter.widget-view+json": {
       "model_id": "2a994ab8bb4145f1851feae0b479f441",
       "version_major": 2,
       "version_minor": 0
      },
      "text/plain": [
       "HBox(children=(FloatProgress(value=0.0, max=2775.0), HTML(value='')))"
      ]
     },
     "metadata": {},
     "output_type": "display_data"
    },
    {
     "name": "stdout",
     "output_type": "stream",
     "text": [
      "\n"
     ]
    },
    {
     "data": {
      "application/vnd.jupyter.widget-view+json": {
       "model_id": "fd2ef80d261141c688aca1e7c6b94577",
       "version_major": 2,
       "version_minor": 0
      },
      "text/plain": [
       "HBox(children=(FloatProgress(value=0.0, max=1086.0), HTML(value='')))"
      ]
     },
     "metadata": {},
     "output_type": "display_data"
    },
    {
     "name": "stdout",
     "output_type": "stream",
     "text": [
      "\n"
     ]
    },
    {
     "data": {
      "application/vnd.jupyter.widget-view+json": {
       "model_id": "35abe62933ff411c9590aca12ff1b646",
       "version_major": 2,
       "version_minor": 0
      },
      "text/plain": [
       "HBox(children=(FloatProgress(value=0.0, max=2584.0), HTML(value='')))"
      ]
     },
     "metadata": {},
     "output_type": "display_data"
    },
    {
     "name": "stdout",
     "output_type": "stream",
     "text": [
      "\n"
     ]
    },
    {
     "data": {
      "application/vnd.jupyter.widget-view+json": {
       "model_id": "34d8ee2ad7994edf950e85dbb4689677",
       "version_major": 2,
       "version_minor": 0
      },
      "text/plain": [
       "HBox(children=(FloatProgress(value=0.0, max=1901.0), HTML(value='')))"
      ]
     },
     "metadata": {},
     "output_type": "display_data"
    },
    {
     "name": "stdout",
     "output_type": "stream",
     "text": [
      "\n",
      "\n"
     ]
    }
   ],
   "source": [
    "augmentation = TextAugmentation(categories, 3000)\n",
    "X_train_aug, Y_train_aug = augmentation.augment(X_train, Y_train)"
   ]
  },
  {
   "cell_type": "markdown",
   "metadata": {},
   "source": [
    "Define and train the pipeline. Unforunately, skitlearn pipelines cannot handle tansformations of X --> augment training data before \"by hand\"."
   ]
  },
  {
   "cell_type": "code",
   "execution_count": 43,
   "metadata": {},
   "outputs": [],
   "source": [
    "pipeline_with_augmentation = Pipeline([\n",
    "    ('features', FeatureUnion([\n",
    "        ('text_pipeline', Pipeline([\n",
    "            ('vect', CountVectorizer(tokenizer=tokenize)),\n",
    "            ('tfidf', TfidfTransformer())\n",
    "        ])),\n",
    "        ('text_length', TextLengthExtractor())\n",
    "    ])),\n",
    "    (\"clf\", MultiOutputClassifier(RandomForestClassifier()))\n",
    "])"
   ]
  },
  {
   "cell_type": "code",
   "execution_count": 45,
   "metadata": {},
   "outputs": [],
   "source": [
    "pipeline_with_augmentation.fit(X_train_aug, Y_train_aug)"
   ]
  },
  {
   "cell_type": "code",
   "execution_count": 46,
   "metadata": {},
   "outputs": [
    {
     "data": {
      "text/plain": [
       "['classifier.pkl']"
      ]
     },
     "execution_count": 46,
     "metadata": {},
     "output_type": "execute_result"
    }
   ],
   "source": [
    "joblib.dump(pipeline_with_augmentation, 'classifier.pkl')"
   ]
  },
  {
   "cell_type": "code",
   "execution_count": 47,
   "metadata": {},
   "outputs": [
    {
     "name": "stderr",
     "output_type": "stream",
     "text": [
      "C:\\Users\\osberger\\Anaconda3\\lib\\site-packages\\sklearn\\metrics\\_classification.py:1272: UndefinedMetricWarning: Precision is ill-defined and being set to 0.0 due to no predicted samples. Use `zero_division` parameter to control this behavior.\n",
      "  _warn_prf(average, modifier, msg_start, len(result))\n",
      "C:\\Users\\osberger\\Anaconda3\\lib\\site-packages\\sklearn\\metrics\\_classification.py:1272: UndefinedMetricWarning: Recall is ill-defined and being set to 0.0 due to no true samples. Use `zero_division` parameter to control this behavior.\n",
      "  _warn_prf(average, modifier, msg_start, len(result))\n",
      "C:\\Users\\osberger\\Anaconda3\\lib\\site-packages\\sklearn\\metrics\\_classification.py:1515: UndefinedMetricWarning: F-score is ill-defined and being set to 0.0 due to no true nor predicted samples. Use `zero_division` parameter to control this behavior.\n",
      "  average, \"true nor predicted\", 'F-score is', len(true_sum)\n"
     ]
    },
    {
     "name": "stdout",
     "output_type": "stream",
     "text": [
      "Evaluation results for all categories:\n",
      "                        Accuracy  Precision    Recall  F1-Score\n",
      "related                 0.754966   0.762127  0.985696  0.859613\n",
      "request                 0.892857   0.756589  0.547085  0.635003\n",
      "offer                   0.995225   0.000000  0.000000  0.000000\n",
      "aid_related             0.754202   0.703097  0.708582  0.705829\n",
      "medical_help            0.927426   0.554217  0.118252  0.194915\n",
      "medical_products        0.952063   0.671875  0.157509  0.255193\n",
      "search_and_rescue       0.973453   0.607143  0.117241  0.196532\n",
      "security                0.983193   0.000000  0.000000  0.000000\n",
      "military                0.971925   0.634921  0.243902  0.352423\n",
      "child_alone             1.000000   0.000000  0.000000  0.000000\n",
      "water                   0.956646   0.858974  0.395280  0.541414\n",
      "food                    0.945378   0.850526  0.652666  0.738574\n",
      "shelter                 0.936402   0.814516  0.413088  0.548168\n",
      "clothing                0.985294   0.888889  0.095238  0.172043\n",
      "money                   0.974981   0.526316  0.075758  0.132450\n",
      "missing_people          0.988732   0.333333  0.017241  0.032787\n",
      "refugees                0.970397   0.565217  0.082278  0.143646\n",
      "death                   0.964286   0.744186  0.279476  0.406349\n",
      "other_aid               0.868411   0.613636  0.038627  0.072678\n",
      "infrastructure_related  0.926853   0.166667  0.002639  0.005195\n",
      "transport               0.957983   0.600000  0.142857  0.230769\n",
      "buildings               0.948434   0.766667  0.080420  0.145570\n",
      "electricity             0.980138   0.647059  0.100917  0.174603\n",
      "tools                   0.995225   0.000000  0.000000  0.000000\n",
      "hospitals               0.988541   0.000000  0.000000  0.000000\n",
      "shops                   0.995416   0.000000  0.000000  0.000000\n",
      "aid_centers             0.988923   0.000000  0.000000  0.000000\n",
      "other_infrastructure    0.947670   0.000000  0.000000  0.000000\n",
      "weather_related         0.879106   0.858545  0.695364  0.768386\n",
      "floods                  0.957983   0.886029  0.560465  0.686610\n",
      "storm                   0.941940   0.739837  0.567568  0.642353\n",
      "fire                    0.989305   0.666667  0.035088  0.066667\n",
      "earthquake              0.970970   0.905462  0.801115  0.850099\n",
      "cold                    0.981283   0.659091  0.258929  0.371795\n",
      "other_weather           0.947861   0.600000  0.043321  0.080808\n",
      "direct_report           0.855806   0.746924  0.410232  0.529595\n",
      "\n",
      "Mean evaluation metrics over all categories:\n",
      "           overall mean\n",
      "Accuracy       0.945813\n",
      "Precision      0.531347\n",
      "Recall         0.239634\n",
      "F1-Score       0.292780\n"
     ]
    }
   ],
   "source": [
    "pipeline_with_augmentation = joblib.load('classifier.pkl')\n",
    "Y_pred = pipeline_with_augmentation.predict(X_test)\n",
    "\n",
    "df_metrics, f_metrics_mean = evaluate_results(Y_pred, Y_test, categories)"
   ]
  },
  {
   "cell_type": "markdown",
   "metadata": {},
   "source": [
    "**Conclusion**: There is a slightly increase of the `recall`, so augmentation should be considered for further analysis."
   ]
  },
  {
   "cell_type": "markdown",
   "metadata": {},
   "source": [
    "### 3.5 Try some other classifiers\n",
    "\n",
    "to avoid long caluclations, we will choose a reference category (`water`) and check how other classifiers perform on it.\n",
    "\n",
    "#### Support Vector Classifier (SVM)\n",
    "\n",
    "Define and train the classifier for a single category."
   ]
  },
  {
   "cell_type": "code",
   "execution_count": 100,
   "metadata": {},
   "outputs": [],
   "source": [
    "from sklearn.svm import SVC\n",
    "\n",
    "pipeline = Pipeline([\n",
    "    ('features', FeatureUnion([\n",
    "        ('text_pipeline', Pipeline([\n",
    "            ('vect', CountVectorizer(tokenizer=tokenize)),\n",
    "            ('tfidf', TfidfTransformer())\n",
    "        ])),\n",
    "        ('text_length', TextLengthExtractor())\n",
    "    ])),\n",
    "    (\"clf\", SVC(kernel = 'linear', class_weight = 'balanced'))\n",
    "])"
   ]
  },
  {
   "cell_type": "code",
   "execution_count": 101,
   "metadata": {},
   "outputs": [
    {
     "data": {
      "text/plain": [
       "['classifier_svm_water.pkl']"
      ]
     },
     "execution_count": 101,
     "metadata": {},
     "output_type": "execute_result"
    }
   ],
   "source": [
    "pipeline.fit(X_train_aug, Y_train_aug.water)\n",
    "joblib.dump(pipeline, 'classifier_svm_water.pkl')"
   ]
  },
  {
   "cell_type": "markdown",
   "metadata": {},
   "source": [
    "Evaluate the classifier"
   ]
  },
  {
   "cell_type": "code",
   "execution_count": 103,
   "metadata": {},
   "outputs": [
    {
     "name": "stdout",
     "output_type": "stream",
     "text": [
      "Evaluation results for all categories:\n",
      "       Accuracy  Precision    Recall  F1-Score\n",
      "water  0.939458   0.524123  0.705015  0.601258\n",
      "\n",
      "Mean evaluation metrics over all categories:\n",
      "           overall mean\n",
      "Accuracy       0.939458\n",
      "Precision      0.524123\n",
      "Recall         0.705015\n",
      "F1-Score       0.601258\n"
     ]
    }
   ],
   "source": [
    "pipeline = joblib.load('classifier_svm_water.pkl')\n",
    "Y_pred = pipeline.predict(X_test)\n",
    "\n",
    "df_metrics, f_metrics_mean = evaluate_results(Y_pred, Y_test.water, ['water'])"
   ]
  },
  {
   "cell_type": "markdown",
   "metadata": {},
   "source": [
    "**Conclusion**: The `recall` for the category `water` is much better, so this could be a promising alternative to RandomForrest classificaiton! However, compared to RandomForest, training all categories takes hours...\n",
    "\n",
    "So let us try it on all classes. Unfortunately, this does not work since there is a class `child_alone` that is not represented in the training split. For testing issues, just drop it for the moment."
   ]
  },
  {
   "cell_type": "code",
   "execution_count": 119,
   "metadata": {},
   "outputs": [
    {
     "data": {
      "text/plain": [
       "(58368, 35)"
      ]
     },
     "execution_count": 119,
     "metadata": {},
     "output_type": "execute_result"
    }
   ],
   "source": [
    "Y_train_aug_tmp = Y_train_aug.drop(columns=['child_alone'])\n",
    "Y_train_aug_tmp.shape"
   ]
  },
  {
   "cell_type": "code",
   "execution_count": 120,
   "metadata": {},
   "outputs": [],
   "source": [
    "pipeline = Pipeline([\n",
    "    ('features', FeatureUnion([\n",
    "        ('text_pipeline', Pipeline([\n",
    "            ('vect', CountVectorizer(tokenizer=tokenize)),\n",
    "            ('tfidf', TfidfTransformer())\n",
    "        ])),\n",
    "        ('text_length', TextLengthExtractor())\n",
    "    ])),\n",
    "    (\"clf\", MultiOutputClassifier(SVC(kernel = 'linear', class_weight = 'balanced')))\n",
    "])"
   ]
  },
  {
   "cell_type": "code",
   "execution_count": 121,
   "metadata": {},
   "outputs": [
    {
     "data": {
      "text/plain": [
       "['classifier_svm.pkl']"
      ]
     },
     "execution_count": 121,
     "metadata": {},
     "output_type": "execute_result"
    }
   ],
   "source": [
    "pipeline.fit(X_train_aug, Y_train_aug_tmp)\n",
    "joblib.dump(pipeline, 'classifier_svm.pkl')"
   ]
  },
  {
   "cell_type": "code",
   "execution_count": null,
   "metadata": {},
   "outputs": [],
   "source": [
    "pipeline = joblib.load('classifier_svm.pkl')\n",
    "Y_pred = pipeline.predict(X_test)\n",
    "\n",
    "Y_test_tmp = Y_test.drop(columns=['child_alone'])\n",
    "\n",
    "df_metrics, f_metrics_mean = evaluate_results(Y_pred, Y_test_tmp, Y_test_tmp.colums)"
   ]
  },
  {
   "cell_type": "markdown",
   "metadata": {},
   "source": [
    "#### K-Nearest Neighbor Classifier\n",
    "\n",
    "Define and train the classifier for a single category."
   ]
  },
  {
   "cell_type": "code",
   "execution_count": 105,
   "metadata": {},
   "outputs": [],
   "source": [
    "from sklearn.neighbors import KNeighborsClassifier\n",
    "\n",
    "pipeline = Pipeline([\n",
    "    ('features', FeatureUnion([\n",
    "        ('text_pipeline', Pipeline([\n",
    "            ('vect', CountVectorizer(tokenizer=tokenize)),\n",
    "            ('tfidf', TfidfTransformer())\n",
    "        ])),\n",
    "        ('text_length', TextLengthExtractor())\n",
    "    ])),\n",
    "    (\"clf\", KNeighborsClassifier(n_neighbors = 2, weights = 'distance'))\n",
    "])"
   ]
  },
  {
   "cell_type": "code",
   "execution_count": 106,
   "metadata": {},
   "outputs": [
    {
     "data": {
      "text/plain": [
       "['classifier_knn_water.pkl']"
      ]
     },
     "execution_count": 106,
     "metadata": {},
     "output_type": "execute_result"
    }
   ],
   "source": [
    "pipeline.fit(X_train_aug, Y_train_aug.water)\n",
    "joblib.dump(pipeline, 'classifier_knn_water.pkl')"
   ]
  },
  {
   "cell_type": "code",
   "execution_count": 108,
   "metadata": {},
   "outputs": [
    {
     "name": "stdout",
     "output_type": "stream",
     "text": [
      "Evaluation results for all categories:\n",
      "       Accuracy  Precision    Recall  F1-Score\n",
      "water  0.884263   0.234592  0.348083  0.280285\n",
      "\n",
      "Mean evaluation metrics over all categories:\n",
      "           overall mean\n",
      "Accuracy       0.884263\n",
      "Precision      0.234592\n",
      "Recall         0.348083\n",
      "F1-Score       0.280285\n"
     ]
    }
   ],
   "source": [
    "pipeline = joblib.load('classifier_knn_water.pkl')\n",
    "Y_pred = pipeline.predict(X_test)\n",
    "\n",
    "df_metrics, f_metrics_mean = evaluate_results(Y_pred, Y_test.water, ['water'])"
   ]
  },
  {
   "cell_type": "markdown",
   "metadata": {},
   "source": [
    "**Conclusion**: Using K-Nearest-Neighbor does not seem to lead to any improvements."
   ]
  },
  {
   "cell_type": "markdown",
   "metadata": {},
   "source": [
    "### 4. Optimization using GridSearch\n",
    "\n",
    "When performing GridSearch on a mulit-class classifier, this can take a loooooooong time. Therefore, it might be better  to apply the grid search on a single-class problem and use the optimized parameters for all classifiers.\n",
    "\n",
    "Therefore, let us first define a single-class classifier."
   ]
  },
  {
   "cell_type": "code",
   "execution_count": 127,
   "metadata": {},
   "outputs": [],
   "source": [
    "pipeline_single = Pipeline([\n",
    "    ('features', FeatureUnion([\n",
    "        ('text_pipeline', Pipeline([\n",
    "            ('vect', CountVectorizer(tokenizer=tokenize)),\n",
    "            ('tfidf', TfidfTransformer())\n",
    "        ])),\n",
    "        ('text_length', TextLengthExtractor())\n",
    "    ])),\n",
    "    (\"clf\", RandomForestClassifier())\n",
    "])"
   ]
  },
  {
   "cell_type": "markdown",
   "metadata": {},
   "source": [
    "Have a look on the settable parameters that can be considered during grid search."
   ]
  },
  {
   "cell_type": "code",
   "execution_count": 128,
   "metadata": {},
   "outputs": [
    {
     "data": {
      "text/plain": [
       "['memory',\n",
       " 'steps',\n",
       " 'verbose',\n",
       " 'features',\n",
       " 'clf',\n",
       " 'features__n_jobs',\n",
       " 'features__transformer_list',\n",
       " 'features__transformer_weights',\n",
       " 'features__verbose',\n",
       " 'features__text_pipeline',\n",
       " 'features__text_length',\n",
       " 'features__text_pipeline__memory',\n",
       " 'features__text_pipeline__steps',\n",
       " 'features__text_pipeline__verbose',\n",
       " 'features__text_pipeline__vect',\n",
       " 'features__text_pipeline__tfidf',\n",
       " 'features__text_pipeline__vect__analyzer',\n",
       " 'features__text_pipeline__vect__binary',\n",
       " 'features__text_pipeline__vect__decode_error',\n",
       " 'features__text_pipeline__vect__dtype',\n",
       " 'features__text_pipeline__vect__encoding',\n",
       " 'features__text_pipeline__vect__input',\n",
       " 'features__text_pipeline__vect__lowercase',\n",
       " 'features__text_pipeline__vect__max_df',\n",
       " 'features__text_pipeline__vect__max_features',\n",
       " 'features__text_pipeline__vect__min_df',\n",
       " 'features__text_pipeline__vect__ngram_range',\n",
       " 'features__text_pipeline__vect__preprocessor',\n",
       " 'features__text_pipeline__vect__stop_words',\n",
       " 'features__text_pipeline__vect__strip_accents',\n",
       " 'features__text_pipeline__vect__token_pattern',\n",
       " 'features__text_pipeline__vect__tokenizer',\n",
       " 'features__text_pipeline__vect__vocabulary',\n",
       " 'features__text_pipeline__tfidf__norm',\n",
       " 'features__text_pipeline__tfidf__smooth_idf',\n",
       " 'features__text_pipeline__tfidf__sublinear_tf',\n",
       " 'features__text_pipeline__tfidf__use_idf',\n",
       " 'clf__bootstrap',\n",
       " 'clf__ccp_alpha',\n",
       " 'clf__class_weight',\n",
       " 'clf__criterion',\n",
       " 'clf__max_depth',\n",
       " 'clf__max_features',\n",
       " 'clf__max_leaf_nodes',\n",
       " 'clf__max_samples',\n",
       " 'clf__min_impurity_decrease',\n",
       " 'clf__min_impurity_split',\n",
       " 'clf__min_samples_leaf',\n",
       " 'clf__min_samples_split',\n",
       " 'clf__min_weight_fraction_leaf',\n",
       " 'clf__n_estimators',\n",
       " 'clf__n_jobs',\n",
       " 'clf__oob_score',\n",
       " 'clf__random_state',\n",
       " 'clf__verbose',\n",
       " 'clf__warm_start']"
      ]
     },
     "execution_count": 128,
     "metadata": {},
     "output_type": "execute_result"
    }
   ],
   "source": [
    "list(pipeline_single.get_params())"
   ]
  },
  {
   "cell_type": "markdown",
   "metadata": {},
   "source": [
    "Specify parameters for grid search. In addition, since we want to have a higher `recall`, let us use this as metric for the search."
   ]
  },
  {
   "cell_type": "code",
   "execution_count": 136,
   "metadata": {},
   "outputs": [],
   "source": [
    "from sklearn.metrics import recall_score, make_scorer\n",
    "\n",
    "parameters = {\n",
    "    'clf__max_samples': [None],\n",
    "    'clf__class_weight': [None, 'balanced']\n",
    "}\n",
    "\n",
    "scorer = make_scorer(recall_score)\n",
    "final_classifier = GridSearchCV(pipeline_single, param_grid=parameters, scoring=scorer)"
   ]
  },
  {
   "cell_type": "markdown",
   "metadata": {},
   "source": [
    "Run the GridSearch optimization"
   ]
  },
  {
   "cell_type": "code",
   "execution_count": 137,
   "metadata": {},
   "outputs": [
    {
     "data": {
      "text/plain": [
       "GridSearchCV(cv=None, error_score=nan,\n",
       "             estimator=Pipeline(memory=None,\n",
       "                                steps=[('features',\n",
       "                                        FeatureUnion(n_jobs=None,\n",
       "                                                     transformer_list=[('text_pipeline',\n",
       "                                                                        Pipeline(memory=None,\n",
       "                                                                                 steps=[('vect',\n",
       "                                                                                         CountVectorizer(analyzer='word',\n",
       "                                                                                                         binary=False,\n",
       "                                                                                                         decode_error='strict',\n",
       "                                                                                                         dtype=<class 'numpy.int64'>,\n",
       "                                                                                                         encoding='utf-8',\n",
       "                                                                                                         input='content',\n",
       "                                                                                                         lowercase=True,\n",
       "                                                                                                         max_df=1.0,\n",
       "                                                                                                         max_features=N...\n",
       "                                                               min_samples_split=2,\n",
       "                                                               min_weight_fraction_leaf=0.0,\n",
       "                                                               n_estimators=100,\n",
       "                                                               n_jobs=None,\n",
       "                                                               oob_score=False,\n",
       "                                                               random_state=None,\n",
       "                                                               verbose=0,\n",
       "                                                               warm_start=False))],\n",
       "                                verbose=False),\n",
       "             iid='deprecated', n_jobs=None,\n",
       "             param_grid={'clf__class_weight': [None, 'balanced'],\n",
       "                         'clf__max_samples': [None]},\n",
       "             pre_dispatch='2*n_jobs', refit=True, return_train_score=False,\n",
       "             scoring=make_scorer(recall_score), verbose=0)"
      ]
     },
     "execution_count": 137,
     "metadata": {},
     "output_type": "execute_result"
    }
   ],
   "source": [
    "final_classifier.fit(X_train_aug, Y_train_aug.water)"
   ]
  },
  {
   "cell_type": "markdown",
   "metadata": {},
   "source": [
    "Save and reload the model"
   ]
  },
  {
   "cell_type": "code",
   "execution_count": 138,
   "metadata": {},
   "outputs": [
    {
     "data": {
      "text/plain": [
       "['classifier_with_gs_single.pkl']"
      ]
     },
     "execution_count": 138,
     "metadata": {},
     "output_type": "execute_result"
    }
   ],
   "source": [
    "joblib.dump(final_classifier, 'classifier_with_gs_single.pkl')"
   ]
  },
  {
   "cell_type": "markdown",
   "metadata": {},
   "source": [
    "Evaluate and dispay the results"
   ]
  },
  {
   "cell_type": "code",
   "execution_count": 157,
   "metadata": {},
   "outputs": [
    {
     "name": "stdout",
     "output_type": "stream",
     "text": [
      "Evaluation results for all categories:\n",
      "       Accuracy  Precision    Recall  F1-Score\n",
      "water  0.956264   0.759434  0.474926  0.584392\n",
      "\n",
      "Mean evaluation metrics over all categories:\n",
      "           overall mean\n",
      "Accuracy       0.956264\n",
      "Precision      0.759434\n",
      "Recall         0.474926\n",
      "F1-Score       0.584392\n"
     ]
    }
   ],
   "source": [
    "final_classifier = joblib.load('classifier_with_gs_single.pkl')\n",
    "Y_pred = final_classifier.predict(X_test)\n",
    "\n",
    "df_metrics, f_metrics_mean = evaluate_results(Y_pred, Y_test.water, ['water'])"
   ]
  },
  {
   "cell_type": "markdown",
   "metadata": {},
   "source": [
    "Get the optimized parameters and define the multi-class pipeline"
   ]
  },
  {
   "cell_type": "code",
   "execution_count": 150,
   "metadata": {},
   "outputs": [
    {
     "data": {
      "text/plain": [
       "{'clf__class_weight': 'balanced', 'clf__max_samples': None}"
      ]
     },
     "execution_count": 150,
     "metadata": {},
     "output_type": "execute_result"
    }
   ],
   "source": [
    "best_params = final_classifier.best_params_\n",
    "best_params"
   ]
  },
  {
   "cell_type": "code",
   "execution_count": 152,
   "metadata": {},
   "outputs": [],
   "source": [
    "pipeline = Pipeline([\n",
    "        ('features', FeatureUnion([\n",
    "            ('text_pipeline', Pipeline([\n",
    "                ('vect', CountVectorizer(tokenizer=tokenize)),\n",
    "                ('tfidf', TfidfTransformer())\n",
    "            ])),\n",
    "            ('text_length', TextLengthExtractor())\n",
    "        ])),\n",
    "        (\"clf\", MultiOutputClassifier(\n",
    "                RandomForestClassifier(max_samples = best_params['clf__max_samples'],\n",
    "                                        class_weight = best_params['clf__class_weight'])))\n",
    "    ])"
   ]
  },
  {
   "cell_type": "code",
   "execution_count": 153,
   "metadata": {},
   "outputs": [
    {
     "data": {
      "text/plain": [
       "['classifier_with_gs.pkl']"
      ]
     },
     "execution_count": 153,
     "metadata": {},
     "output_type": "execute_result"
    }
   ],
   "source": [
    "pipeline.fit(X_train_aug, Y_train_aug)\n",
    "joblib.dump(pipeline, 'classifier_with_gs.pkl')"
   ]
  },
  {
   "cell_type": "markdown",
   "metadata": {},
   "source": [
    "Evaluate the model"
   ]
  },
  {
   "cell_type": "code",
   "execution_count": 158,
   "metadata": {},
   "outputs": [
    {
     "name": "stderr",
     "output_type": "stream",
     "text": [
      "C:\\Users\\osberger\\Anaconda3\\lib\\site-packages\\sklearn\\metrics\\_classification.py:1272: UndefinedMetricWarning: Precision is ill-defined and being set to 0.0 due to no predicted samples. Use `zero_division` parameter to control this behavior.\n",
      "  _warn_prf(average, modifier, msg_start, len(result))\n",
      "C:\\Users\\osberger\\Anaconda3\\lib\\site-packages\\sklearn\\metrics\\_classification.py:1272: UndefinedMetricWarning: Recall is ill-defined and being set to 0.0 due to no true samples. Use `zero_division` parameter to control this behavior.\n",
      "  _warn_prf(average, modifier, msg_start, len(result))\n",
      "C:\\Users\\osberger\\Anaconda3\\lib\\site-packages\\sklearn\\metrics\\_classification.py:1515: UndefinedMetricWarning: F-score is ill-defined and being set to 0.0 due to no true nor predicted samples. Use `zero_division` parameter to control this behavior.\n",
      "  average, \"true nor predicted\", 'F-score is', len(true_sum)\n"
     ]
    },
    {
     "name": "stdout",
     "output_type": "stream",
     "text": [
      "Evaluation results for all categories:\n",
      "                        Accuracy  Precision    Recall  F1-Score\n",
      "related                 0.754202   0.762247  0.983940  0.859021\n",
      "request                 0.884836   0.685972  0.597534  0.638706\n",
      "offer                   0.995225   0.000000  0.000000  0.000000\n",
      "aid_related             0.687739   0.600147  0.748050  0.665986\n",
      "medical_help            0.927617   0.548077  0.146530  0.231237\n",
      "medical_products        0.952636   0.719298  0.150183  0.248485\n",
      "search_and_rescue       0.973644   0.769231  0.068966  0.126582\n",
      "security                0.984148   0.000000  0.000000  0.000000\n",
      "military                0.971352   0.659091  0.176829  0.278846\n",
      "child_alone             1.000000   0.000000  0.000000  0.000000\n",
      "water                   0.958747   0.847458  0.442478  0.581395\n",
      "food                    0.939649   0.830065  0.615509  0.706865\n",
      "shelter                 0.932582   0.820755  0.355828  0.496434\n",
      "clothing                0.984912   0.777778  0.083333  0.150538\n",
      "money                   0.975745   0.692308  0.068182  0.124138\n",
      "missing_people          0.988732   0.000000  0.000000  0.000000\n",
      "refugees                0.970206   0.555556  0.063291  0.113636\n",
      "death                   0.964095   0.847458  0.218341  0.347222\n",
      "other_aid               0.870321   0.549505  0.158798  0.246393\n",
      "infrastructure_related  0.926662   0.000000  0.000000  0.000000\n",
      "transport               0.957792   0.656250  0.090909  0.159696\n",
      "buildings               0.952063   0.857143  0.146853  0.250746\n",
      "electricity             0.980519   0.733333  0.100917  0.177419\n",
      "tools                   0.995225   0.000000  0.000000  0.000000\n",
      "hospitals               0.988541   0.000000  0.000000  0.000000\n",
      "shops                   0.995416   0.000000  0.000000  0.000000\n",
      "aid_centers             0.988923   0.000000  0.000000  0.000000\n",
      "other_infrastructure    0.948625   0.000000  0.000000  0.000000\n",
      "weather_related         0.856761   0.792308  0.682119  0.733096\n",
      "floods                  0.954545   0.921053  0.488372  0.638298\n",
      "storm                   0.937548   0.731928  0.505198  0.597786\n",
      "fire                    0.989305   0.666667  0.035088  0.066667\n",
      "earthquake              0.961612   0.909976  0.695167  0.788198\n",
      "cold                    0.979756   0.615385  0.142857  0.231884\n",
      "other_weather           0.947670   0.578947  0.039711  0.074324\n",
      "direct_report           0.835371   0.593750  0.531853  0.561100\n",
      "\n",
      "Mean evaluation metrics over all categories:\n",
      "           overall mean\n",
      "Accuracy       0.942020\n",
      "Precision      0.520047\n",
      "Recall         0.231579\n",
      "F1-Score       0.280408\n"
     ]
    }
   ],
   "source": [
    "pipeline = joblib.load('classifier_with_gs.pkl')\n",
    "Y_pred = pipeline.predict(X_test)\n",
    "\n",
    "df_metrics, f_metrics_mean = evaluate_results(Y_pred, Y_test, categories)"
   ]
  },
  {
   "cell_type": "markdown",
   "metadata": {},
   "source": [
    "**Conclusion**: The results are slightly better, especially the `recall` of the water category increased with the method. This seems to be a promising approach."
   ]
  },
  {
   "cell_type": "code",
   "execution_count": null,
   "metadata": {},
   "outputs": [],
   "source": []
  }
 ],
 "metadata": {
  "kernelspec": {
   "display_name": "Python 3",
   "language": "python",
   "name": "python3"
  },
  "language_info": {
   "codemirror_mode": {
    "name": "ipython",
    "version": 3
   },
   "file_extension": ".py",
   "mimetype": "text/x-python",
   "name": "python",
   "nbconvert_exporter": "python",
   "pygments_lexer": "ipython3",
   "version": "3.7.6"
  }
 },
 "nbformat": 4,
 "nbformat_minor": 2
}
